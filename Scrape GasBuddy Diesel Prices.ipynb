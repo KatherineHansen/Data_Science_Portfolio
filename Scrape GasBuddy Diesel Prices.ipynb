{
 "cells": [
  {
   "cell_type": "markdown",
   "id": "1388eb7e",
   "metadata": {},
   "source": [
    "# Scrape GasBuddy Diesel Prices for these locations"
   ]
  },
  {
   "cell_type": "code",
   "execution_count": 4,
   "id": "d668045f",
   "metadata": {},
   "outputs": [
    {
     "name": "stdout",
     "output_type": "stream",
     "text": [
      "St Croix County\n",
      "   St Croix County\n",
      "0            4.278\n",
      "Chisago County\n",
      "   St Croix County  Chisago County\n",
      "0            4.278           4.233\n",
      "Dakota County\n",
      "   St Croix County  Chisago County  Dakota County\n",
      "0            4.278           4.233           4.29\n",
      "Hennepin County\n",
      "   St Croix County  Chisago County  Dakota County  Hennepin County\n",
      "0            4.278           4.233           4.29            4.104\n"
     ]
    }
   ],
   "source": [
    "from selenium import webdriver\n",
    "from selenium.webdriver.support.ui import Select\n",
    "from selenium.webdriver.common.by import By\n",
    "from selenium.webdriver.support.ui import WebDriverWait\n",
    "from selenium.webdriver.support import expected_conditions as EC\n",
    "import pandas as pd\n",
    "\n",
    "GasBuddy = pd.DataFrame()\n",
    "\n",
    "Counties = {\n",
    "    \"St Croix County\" : 'https://www.gasbuddy.com/gasprices/wisconsin/st.-croix/297',\n",
    "    \"Chisago County\"  : 'https://www.gasbuddy.com/gasprices/minnesota/chisago/814',\n",
    "    \"Dakota County\"   : 'https://www.gasbuddy.com/gasprices/minnesota/dakota/334',\n",
    "    \"Hennepin County\" : 'https://www.gasbuddy.com/gasprices/minnesota/hennepin/678'\n",
    "}\n",
    "\n",
    "for key, value in Counties.items():\n",
    "    driver = webdriver.Firefox()\n",
    "    driver.get(value)\n",
    "    \n",
    "    #GasBuddy changes path every once in a while\n",
    "    WebDriverWait(driver,20).until(EC.element_to_be_clickable((By.XPATH,\"/html/body/div[1]/div/div[3]/div/div[2]/div[1]/div/div[1]/div/button/span[2]\"))).click()\n",
    "    \n",
    "    driver.implicitly_wait(20)                                           \n",
    "    WebDriverWait(driver,20).until(EC.element_to_be_clickable((By.XPATH,\"//*[@id=\\\"option3\\\"]\"))).click()\n",
    "    driver.implicitly_wait(20)\n",
    "    HTML = driver.find_elements(By.CLASS_NAME, \"text__xl___2MXGo\")\n",
    "    Prices = []\n",
    "    for thing in HTML:\n",
    "        text = thing.text\n",
    "        if text == '- - -':\n",
    "            continue\n",
    "        Prices.append(thing.text) \n",
    "        \n",
    "        \n",
    "    runSum = 0\n",
    "    for i in Prices:\n",
    "        convt = i.replace('$', '') \n",
    "        numHld = float(convt)\n",
    "        runSum = runSum + numHld\n",
    "    \n",
    "    toadd = pd.DataFrame({key:[round(runSum/len(Prices),3)]})\n",
    "    GasBuddy = pd.concat([GasBuddy, toadd], axis=1)\n",
    "    #print(key)\n",
    "    #print(GasBuddy)\n",
    "    \n",
    "    driver.close()\n",
    "    \n",
    "#GasBuddy.to_excel(\"GasBuddy.xlsx\",index=False)"
   ]
  }
 ],
 "metadata": {
  "kernelspec": {
   "display_name": "Python 3 (ipykernel)",
   "language": "python",
   "name": "python3"
  },
  "language_info": {
   "codemirror_mode": {
    "name": "ipython",
    "version": 3
   },
   "file_extension": ".py",
   "mimetype": "text/x-python",
   "name": "python",
   "nbconvert_exporter": "python",
   "pygments_lexer": "ipython3",
   "version": "3.11.4"
  }
 },
 "nbformat": 4,
 "nbformat_minor": 5
}
