{
 "cells": [
  {
   "cell_type": "markdown",
   "id": "1388eb7e",
   "metadata": {},
   "source": [
    "# Scrape GasBuddy Diesel Prices for these locations"
   ]
  },
  {
   "cell_type": "code",
   "execution_count": 3,
   "id": "d668045f",
   "metadata": {},
   "outputs": [
    {
     "name": "stdout",
     "output_type": "stream",
     "text": [
      "St Croix County\n",
      "   St Croix County\n",
      "0            4.038\n",
      "Lincoln County\n",
      "   St Croix County  Lincoln County\n",
      "0            4.038           3.955\n",
      "Wadena County\n",
      "   St Croix County  Lincoln County  Wadena County\n",
      "0            4.038           3.955           3.99\n",
      "Stutsman County\n",
      "   St Croix County  Lincoln County  Wadena County  Stutsman County\n",
      "0            4.038           3.955           3.99             3.99\n",
      "La Crosse County\n",
      "   St Croix County  Lincoln County  Wadena County  Stutsman County  \\\n",
      "0            4.038           3.955           3.99             3.99   \n",
      "\n",
      "   La Crosse County  \n",
      "0             4.068  \n",
      "Pueblo County\n",
      "   St Croix County  Lincoln County  Wadena County  Stutsman County  \\\n",
      "0            4.038           3.955           3.99             3.99   \n",
      "\n",
      "   La Crosse County  Pueblo County  \n",
      "0             4.068          4.065  \n"
     ]
    }
   ],
   "source": [
    "from selenium import webdriver\n",
    "from selenium.webdriver.support.ui import Select\n",
    "from selenium.webdriver.common.by import By\n",
    "from selenium.webdriver.support.ui import WebDriverWait\n",
    "from selenium.webdriver.support import expected_conditions as EC\n",
    "import pandas as pd\n",
    "\n",
    "GasBuddy = pd.DataFrame()\n",
    "\n",
    "Counties = {\n",
    "    \"St Croix County\" : 'https://www.gasbuddy.com/gasprices/wisconsin/st.-croix/297',\n",
    "    \"Lincoln County\"  : 'https://www.gasbuddy.com/gasprices/wisconsin/lincoln/267',\n",
    "    \"Wadena County\"   : 'https://www.gasbuddy.com/gasprices/minnesota/wadena/137',\n",
    "    \"Stutsman County\" : 'https://www.gasbuddy.com/gasprices/north-dakota/stutsman/1272',\n",
    "    \"La Crosse County\": 'https://www.gasbuddy.com/gasprices/wisconsin/la-crosse/453',\n",
    "    \"Pueblo County\"   : 'https://www.gasbuddy.com/gasprices/colorado/pueblo'\n",
    "}\n",
    "\n",
    "for key, value in Counties.items():\n",
    "    driver = webdriver.Firefox()\n",
    "    #driver.maximize_window()\n",
    "    driver.get(value)\n",
    "    #WebDriverWait(driver,20).until(EC.element_to_be_clickable((By.XPATH,\"/html/body/div[1]/div/div/div[3]/div/div[2]/div[1]/div/div[1]/div/button\"))).click()\n",
    "    #WebDriverWait(driver,20).until(EC.element_to_be_clickable((By.XPATH,\"/html/body/div[1]/div/div[2]/div/div[2]/div[1]/div/div[1]/div/button\"))).click()\n",
    "    \n",
    "    #WebDriverWait(driver,20).until(EC.element_to_be_clickable((By.XPATH,\"/html/body/div[2]/div/div[2]/div/div[2]/div[1]/div/div[1]/div/button\"))).click()\n",
    "    WebDriverWait(driver,20).until(EC.element_to_be_clickable((By.XPATH,\"/html/body/div[2]/div/div[3]/div/div[2]/div[1]/div/div[1]/div/button/span[2]\"))).click()\n",
    "    \n",
    "    driver.implicitly_wait(20)                                           \n",
    "    WebDriverWait(driver,20).until(EC.element_to_be_clickable((By.XPATH,\"//*[@id=\\\"option3\\\"]\"))).click()\n",
    "    driver.implicitly_wait(20)\n",
    "    HTML = driver.find_elements(By.CLASS_NAME, \"text__xl___2MXGo\")\n",
    "    Prices = []\n",
    "    for thing in HTML:\n",
    "        text = thing.text\n",
    "        if text == '- - -':\n",
    "            continue\n",
    "        Prices.append(thing.text) \n",
    "        \n",
    "        \n",
    "    runSum = 0\n",
    "    for i in Prices:\n",
    "        convt = i.replace('$', '') \n",
    "        numHld = float(convt)\n",
    "        runSum = runSum + numHld\n",
    "    \n",
    "    toadd = pd.DataFrame({key:[round(runSum/len(Prices),3)]})\n",
    "    GasBuddy = pd.concat([GasBuddy, toadd], axis=1)\n",
    "    print(key)\n",
    "    print(GasBuddy)\n",
    "    \n",
    "    driver.close()\n",
    "    \n",
    "#GasBuddy.to_excel(\"GasBuddy.xlsx\",index=False)"
   ]
  },
  {
   "cell_type": "code",
   "execution_count": 107,
   "id": "1d1da15a",
   "metadata": {},
   "outputs": [
    {
     "data": {
      "text/plain": [
       "['$4.76',\n",
       " '$4.77',\n",
       " '$4.79',\n",
       " '$4.79',\n",
       " '$4.79',\n",
       " '$4.79',\n",
       " '$4.79',\n",
       " '$4.79',\n",
       " '$4.79',\n",
       " '$4.79']"
      ]
     },
     "execution_count": 107,
     "metadata": {},
     "output_type": "execute_result"
    }
   ],
   "source": [
    "Prices"
   ]
  },
  {
   "cell_type": "code",
   "execution_count": 116,
   "id": "c37f9763",
   "metadata": {},
   "outputs": [],
   "source": [
    "GasBuddy.to_excel(\"GasBuddy.xlsx\",index=False)"
   ]
  },
  {
   "cell_type": "code",
   "execution_count": null,
   "id": "d736df96",
   "metadata": {},
   "outputs": [],
   "source": []
  }
 ],
 "metadata": {
  "kernelspec": {
   "display_name": "Python 3 (ipykernel)",
   "language": "python",
   "name": "python3"
  },
  "language_info": {
   "codemirror_mode": {
    "name": "ipython",
    "version": 3
   },
   "file_extension": ".py",
   "mimetype": "text/x-python",
   "name": "python",
   "nbconvert_exporter": "python",
   "pygments_lexer": "ipython3",
   "version": "3.9.7"
  }
 },
 "nbformat": 4,
 "nbformat_minor": 5
}
