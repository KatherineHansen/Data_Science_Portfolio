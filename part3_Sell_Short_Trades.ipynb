{
 "cells": [
  {
   "cell_type": "markdown",
   "metadata": {},
   "source": [
    "## Imports"
   ]
  },
  {
   "cell_type": "code",
   "execution_count": 3,
   "metadata": {},
   "outputs": [],
   "source": [
    "from composable import pipeable\n",
    "from composable.strict import map\n",
    "import re "
   ]
  },
  {
   "cell_type": "markdown",
   "metadata": {},
   "source": [
    "## Bring in Data"
   ]
  },
  {
   "cell_type": "code",
   "execution_count": 4,
   "metadata": {},
   "outputs": [],
   "source": [
    "with open('part2_Sell_Short_Trades_grouped.csv') as f:\n",
    "    content = f.read()\n",
    "grouped_lines = content.split('\\n')"
   ]
  },
  {
   "cell_type": "markdown",
   "metadata": {},
   "source": [
    "## Splitting up Data for Columns"
   ]
  },
  {
   "cell_type": "code",
   "execution_count": 87,
   "metadata": {},
   "outputs": [],
   "source": [
    "full_list = re.compile('^(\\w+)\\s+(SS)\\s+(NEW)\\s+(\\d,?(?:\\d+)?)\\s+(\\d\\.\\d\\d\\d\\d00)((?:\\d\\d\\d\\d)?)(?:\\s+)?(\\d\\.\\d\\d\\d000)\\s+(\\d\\.\\d\\d\\d\\d\\d\\d)(\\d\\d/\\d\\d)(\\d\\d/\\d\\d)(\\d+)\\s(\\d+):(\\d+):(\\w+)(SS)((?:\\w+)?)\\s+((?:0704)?)\\s+((?:PerUnit)?)\\s+((?:TERM)?)\\s+((?:0.\\d+)?)\\s+((?:\\w+)?)\\s+((?:\\d+)?)((?:#STA=\\w+)?)\\s+(/17)\\s+(/17)\\s+(\\d+)\\s+(\\d\\d)\\s+((?:0704)?)\\s+((?:PerUnit)?)\\s+((?:TERM)?)\\s+((?:0.\\d+)?)\\s+((?:[A-Z]+)?)\\s+((?:\\d\\d\\d\\d\\d\\d\\d\\d\\d\\d\\d\\d\\d)?)((?:#STA=\\w+)?)\\s+((?:\\d+)?)')\n",
    "whole_list = [full_list.search(l).groups() for l in grouped_lines]"
   ]
  },
  {
   "cell_type": "markdown",
   "metadata": {},
   "source": [
    "## Turn into List of Lists and Combine Columns in Order"
   ]
  },
  {
   "cell_type": "code",
   "execution_count": 92,
   "metadata": {},
   "outputs": [],
   "source": [
    "list_list = [list(ele) for ele in whole_list] \n",
    "test_whole = [[l[0],l[1],l[2],l[3].replace(',',''),l[4],l[6],l[7],l[8],l[9],l[10],l[11],l[12],l[13],l[14],l[15],l[23],l[24],l[25],l[26],l[16]+l[27],l[17]+l[28],l[18]+l[29],l[19]+l[30],l[20]+l[31],l[21]+l[32],l[22]+l[33],l[34],l[5]] for l in list_list]\n",
    "\n",
    "list_of_last_item = [i[-1] for i in test_whole]\n",
    "add_overwritten_parts = ['854300' if x == '8543' else x for x in list_of_last_item]\n",
    "add_overwritten_parts2 = ['473640' if x == '4736' else x for x in add_overwritten_parts]\n",
    "add_overwritten_parts3 = add_overwritten_parts2[1:]\n",
    "now_in_place = [x + [y] for x, y in zip(test_whole, add_overwritten_parts3)]\n",
    "\n",
    "real = [[l[0],l[1],l[2],l[3],l[4],l[5],l[6],l[7],l[8],l[9],l[10],l[11],l[12],l[13],l[14],l[15],l[16],l[17],l[18],l[19],l[20],l[21],l[22],l[23],l[24],l[25],l[26]+l[28]] for l in now_in_place]\n",
    "header = [['Symbol','Side','Cxl','Qty','Price','Bid','Ask','T-Dat','S-Dat','TradeID','TradeTHour','TradeTMin','Cust/Contra','SS','FREX/DTTX','Exbkr','SourceCommission','Account','OrderID','GTL','PerUnit','Trailer','TERM','Trailer2','Trailer3','STA','Clr']]\n",
    "\n",
    "final_list = header + real"
   ]
  },
  {
   "cell_type": "markdown",
   "metadata": {},
   "source": [
    "## Write out to File"
   ]
  },
  {
   "cell_type": "code",
   "execution_count": 95,
   "metadata": {},
   "outputs": [],
   "source": [
    "csv_content = '\\n'.join([','.join(line) for line in final_list])\n",
    "with open('part3_Sell_Short_Trades_clean','w') as outfile:\n",
    "    outfile.write(csv_content)"
   ]
  },
  {
   "cell_type": "code",
   "execution_count": null,
   "metadata": {},
   "outputs": [],
   "source": []
  }
 ],
 "metadata": {
  "kernelspec": {
   "display_name": "Python 3",
   "language": "python",
   "name": "python3"
  },
  "language_info": {
   "codemirror_mode": {
    "name": "ipython",
    "version": 3
   },
   "file_extension": ".py",
   "mimetype": "text/x-python",
   "name": "python",
   "nbconvert_exporter": "python",
   "pygments_lexer": "ipython3",
   "version": "3.7.6"
  }
 },
 "nbformat": 4,
 "nbformat_minor": 4
}
